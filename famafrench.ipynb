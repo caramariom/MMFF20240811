{
 "cells": [
  {
   "cell_type": "markdown",
   "metadata": {
    "ExecuteTime": {
     "end_time": "2020-06-24T04:40:30.997909Z",
     "start_time": "2020-06-24T04:40:30.992268Z"
    }
   },
   "source": [
    "# Factor Investing and Fama-French model\n",
    "\n",
    "**Copyright &copy; 2020 Ondrej Martinsky, All rights reserved**\n",
    "\n",
    "[www.github.com/omartinsky/FamaFrench](https://github.com/omartinsky/FamaFrench)"
   ]
  },
  {
   "cell_type": "code",
   "execution_count": 1,
   "metadata": {
    "ExecuteTime": {
     "end_time": "2020-06-24T04:43:17.620211Z",
     "start_time": "2020-06-24T04:43:11.793679Z"
    },
    "cell_style": "center",
    "code_folding": []
   },
   "outputs": [
    {
     "name": "stderr",
     "output_type": "stream",
     "text": [
      "/var/folders/fj/4vv2tyt94_l44bxlschbrx5h0000gn/T/ipykernel_25238/3355595522.py:9: DeprecationWarning: Importing display from IPython.core.display is deprecated since IPython 7.14, please import from IPython display\n",
      "  from IPython.core.display import display, HTML\n",
      "/Users/marmarti/Documents/FinanceProjects/mariomff1/MMFF20240811/famafrench.py:43: FutureWarning: DataFrame.replace without 'value' and with non-dict-like 'to_replace' is deprecated and will raise in a future version. Explicitly specify the new values instead.\n",
      "  p = p.replace(-99.99, math.nan).replace(999) / 100\n",
      "/Users/marmarti/Documents/FinanceProjects/mariomff1/MMFF20240811/famafrench.py:43: FutureWarning: DataFrame.replace without 'value' and with non-dict-like 'to_replace' is deprecated and will raise in a future version. Explicitly specify the new values instead.\n",
      "  p = p.replace(-99.99, math.nan).replace(999) / 100\n",
      "/Users/marmarti/Documents/FinanceProjects/mariomff1/MMFF20240811/famafrench.py:43: FutureWarning: DataFrame.replace without 'value' and with non-dict-like 'to_replace' is deprecated and will raise in a future version. Explicitly specify the new values instead.\n",
      "  p = p.replace(-99.99, math.nan).replace(999) / 100\n",
      "/Users/marmarti/Documents/FinanceProjects/mariomff1/MMFF20240811/famafrench.py:43: FutureWarning: DataFrame.replace without 'value' and with non-dict-like 'to_replace' is deprecated and will raise in a future version. Explicitly specify the new values instead.\n",
      "  p = p.replace(-99.99, math.nan).replace(999) / 100\n",
      "/Users/marmarti/Documents/FinanceProjects/mariomff1/MMFF20240811/famafrench.py:43: FutureWarning: DataFrame.replace without 'value' and with non-dict-like 'to_replace' is deprecated and will raise in a future version. Explicitly specify the new values instead.\n",
      "  p = p.replace(-99.99, math.nan).replace(999) / 100\n",
      "/Users/marmarti/Documents/FinanceProjects/mariomff1/MMFF20240811/famafrench.py:43: FutureWarning: DataFrame.replace without 'value' and with non-dict-like 'to_replace' is deprecated and will raise in a future version. Explicitly specify the new values instead.\n",
      "  p = p.replace(-99.99, math.nan).replace(999) / 100\n",
      "/Users/marmarti/Documents/FinanceProjects/mariomff1/MMFF20240811/famafrench.py:43: FutureWarning: DataFrame.replace without 'value' and with non-dict-like 'to_replace' is deprecated and will raise in a future version. Explicitly specify the new values instead.\n",
      "  p = p.replace(-99.99, math.nan).replace(999) / 100\n",
      "/Users/marmarti/Documents/FinanceProjects/mariomff1/MMFF20240811/famafrench.py:43: FutureWarning: DataFrame.replace without 'value' and with non-dict-like 'to_replace' is deprecated and will raise in a future version. Explicitly specify the new values instead.\n",
      "  p = p.replace(-99.99, math.nan).replace(999) / 100\n",
      "/Users/marmarti/Documents/FinanceProjects/mariomff1/MMFF20240811/famafrench.py:43: FutureWarning: DataFrame.replace without 'value' and with non-dict-like 'to_replace' is deprecated and will raise in a future version. Explicitly specify the new values instead.\n",
      "  p = p.replace(-99.99, math.nan).replace(999) / 100\n",
      "/Users/marmarti/Documents/FinanceProjects/mariomff1/MMFF20240811/famafrench.py:43: FutureWarning: DataFrame.replace without 'value' and with non-dict-like 'to_replace' is deprecated and will raise in a future version. Explicitly specify the new values instead.\n",
      "  p = p.replace(-99.99, math.nan).replace(999) / 100\n",
      "/Users/marmarti/Documents/FinanceProjects/mariomff1/MMFF20240811/famafrench.py:43: FutureWarning: DataFrame.replace without 'value' and with non-dict-like 'to_replace' is deprecated and will raise in a future version. Explicitly specify the new values instead.\n",
      "  p = p.replace(-99.99, math.nan).replace(999) / 100\n",
      "/Users/marmarti/Documents/FinanceProjects/mariomff1/MMFF20240811/famafrench.py:43: FutureWarning: DataFrame.replace without 'value' and with non-dict-like 'to_replace' is deprecated and will raise in a future version. Explicitly specify the new values instead.\n",
      "  p = p.replace(-99.99, math.nan).replace(999) / 100\n",
      "/Users/marmarti/Documents/FinanceProjects/mariomff1/MMFF20240811/famafrench.py:43: FutureWarning: DataFrame.replace without 'value' and with non-dict-like 'to_replace' is deprecated and will raise in a future version. Explicitly specify the new values instead.\n",
      "  p = p.replace(-99.99, math.nan).replace(999) / 100\n"
     ]
    }
   ],
   "source": [
    "import pandas as pd\n",
    "import matplotlib.pyplot as plt\n",
    "import ipywidgets as wx\n",
    "from ipywidgets import interact\n",
    "from sklearn.model_selection import train_test_split\n",
    "from sklearn.linear_model import LinearRegression\n",
    "from sklearn.metrics import mean_absolute_error\n",
    "from pandas.plotting import register_matplotlib_converters\n",
    "from IPython.core.display import display, HTML\n",
    "import famafrench\n",
    "register_matplotlib_converters()"
   ]
  },
  {
   "cell_type": "code",
   "execution_count": 2,
   "metadata": {
    "ExecuteTime": {
     "end_time": "2020-06-24T04:43:17.633216Z",
     "start_time": "2020-06-24T04:43:17.626208Z"
    },
    "cell_style": "center",
    "code_folding": []
   },
   "outputs": [],
   "source": [
    "def create_ma_radios(value):\n",
    "    return wx.RadioButtons(value=value, options=famafrench.lookup_ma.keys(), description='Roll Avg')"
   ]
  },
  {
   "cell_type": "markdown",
   "metadata": {
    "cell_style": "center"
   },
   "source": [
    "# Fama French\n",
    "\n",
    "$ r = R_f + b_m \\cdot \\text{MER} + b_s \\cdot \\text{SMB} + b_v \\cdot \\text{HML} + b_p \\cdot \\text{RMW} + b_i \\cdot \\text{CMA} $\n",
    "\n",
    "$r$ is expected portfolio return \\\n",
    "$b_m$, $b_s$, $b_v$, $b_p$, $b_i$ are factor sensitivities\n",
    "\n",
    "# Factors Analysis\n",
    "$\\text{MER}$ is excess return of a broad market over the risk-free rate ($R_m - R_f$) (**market factor**) \\\n",
    "$\\text{SMB}$ is the average return on the *small* stock portfolios minus *big* stock portfolios (**size factor**) \\\n",
    "$\\text{HML}$ is the average return on *high* book value portfolios minus *low* book value (**value factor**)  \\\n",
    "$\\text{RMW}$ is the average return on *robust* minus *weak* operating profitability portfolios (**profitability factor**) \\\n",
    "$\\text{CMA}$ Conservative minus aggresive investments, proxied by the y/y growth in company asset value (**investment factor**)\n",
    "\n",
    "Definitions: https://mba.tuck.dartmouth.edu/pages/faculty/ken.french/Data_Library/f-f_5_factors_2x3.html"
   ]
  },
  {
   "cell_type": "code",
   "execution_count": 3,
   "metadata": {
    "ExecuteTime": {
     "end_time": "2020-06-24T04:43:17.792113Z",
     "start_time": "2020-06-24T04:43:17.639090Z"
    },
    "cell_style": "center",
    "code_folding": []
   },
   "outputs": [
    {
     "data": {
      "text/html": [
       "<b>Factors time series</b>"
      ],
      "text/plain": [
       "<IPython.core.display.HTML object>"
      ]
     },
     "metadata": {},
     "output_type": "display_data"
    },
    {
     "data": {
      "text/html": [
       "<div>\n",
       "<style scoped>\n",
       "    .dataframe tbody tr th:only-of-type {\n",
       "        vertical-align: middle;\n",
       "    }\n",
       "\n",
       "    .dataframe tbody tr th {\n",
       "        vertical-align: top;\n",
       "    }\n",
       "\n",
       "    .dataframe thead th {\n",
       "        text-align: right;\n",
       "    }\n",
       "</style>\n",
       "<table border=\"1\" class=\"dataframe\">\n",
       "  <thead>\n",
       "    <tr style=\"text-align: right;\">\n",
       "      <th></th>\n",
       "      <th>MER</th>\n",
       "      <th>SMB</th>\n",
       "      <th>HML</th>\n",
       "      <th>RMW</th>\n",
       "      <th>CMA</th>\n",
       "      <th>RF</th>\n",
       "    </tr>\n",
       "  </thead>\n",
       "  <tbody>\n",
       "    <tr>\n",
       "      <th>1963-07-01</th>\n",
       "      <td>-0.0067</td>\n",
       "      <td>0.0002</td>\n",
       "      <td>-0.0035</td>\n",
       "      <td>0.0003</td>\n",
       "      <td>0.0013</td>\n",
       "      <td>0.00012</td>\n",
       "    </tr>\n",
       "    <tr>\n",
       "      <th>1963-07-02</th>\n",
       "      <td>0.0079</td>\n",
       "      <td>-0.0028</td>\n",
       "      <td>0.0028</td>\n",
       "      <td>-0.0008</td>\n",
       "      <td>-0.0021</td>\n",
       "      <td>0.00012</td>\n",
       "    </tr>\n",
       "    <tr>\n",
       "      <th>1963-07-03</th>\n",
       "      <td>0.0063</td>\n",
       "      <td>-0.0018</td>\n",
       "      <td>-0.0010</td>\n",
       "      <td>0.0013</td>\n",
       "      <td>-0.0025</td>\n",
       "      <td>0.00012</td>\n",
       "    </tr>\n",
       "    <tr>\n",
       "      <th>1963-07-05</th>\n",
       "      <td>0.0040</td>\n",
       "      <td>0.0009</td>\n",
       "      <td>-0.0028</td>\n",
       "      <td>0.0007</td>\n",
       "      <td>-0.0030</td>\n",
       "      <td>0.00012</td>\n",
       "    </tr>\n",
       "    <tr>\n",
       "      <th>1963-07-08</th>\n",
       "      <td>-0.0063</td>\n",
       "      <td>0.0007</td>\n",
       "      <td>-0.0020</td>\n",
       "      <td>-0.0027</td>\n",
       "      <td>0.0006</td>\n",
       "      <td>0.00012</td>\n",
       "    </tr>\n",
       "    <tr>\n",
       "      <th>...</th>\n",
       "      <td>...</td>\n",
       "      <td>...</td>\n",
       "      <td>...</td>\n",
       "      <td>...</td>\n",
       "      <td>...</td>\n",
       "      <td>...</td>\n",
       "    </tr>\n",
       "    <tr>\n",
       "      <th>2024-06-24</th>\n",
       "      <td>-0.0026</td>\n",
       "      <td>0.0063</td>\n",
       "      <td>0.0111</td>\n",
       "      <td>0.0000</td>\n",
       "      <td>0.0065</td>\n",
       "      <td>0.00022</td>\n",
       "    </tr>\n",
       "    <tr>\n",
       "      <th>2024-06-25</th>\n",
       "      <td>0.0031</td>\n",
       "      <td>-0.0081</td>\n",
       "      <td>-0.0120</td>\n",
       "      <td>0.0010</td>\n",
       "      <td>-0.0121</td>\n",
       "      <td>0.00022</td>\n",
       "    </tr>\n",
       "    <tr>\n",
       "      <th>2024-06-26</th>\n",
       "      <td>0.0016</td>\n",
       "      <td>0.0000</td>\n",
       "      <td>-0.0020</td>\n",
       "      <td>0.0045</td>\n",
       "      <td>-0.0027</td>\n",
       "      <td>0.00022</td>\n",
       "    </tr>\n",
       "    <tr>\n",
       "      <th>2024-06-27</th>\n",
       "      <td>0.0014</td>\n",
       "      <td>0.0051</td>\n",
       "      <td>-0.0036</td>\n",
       "      <td>-0.0101</td>\n",
       "      <td>-0.0012</td>\n",
       "      <td>0.00022</td>\n",
       "    </tr>\n",
       "    <tr>\n",
       "      <th>2024-06-28</th>\n",
       "      <td>-0.0035</td>\n",
       "      <td>0.0100</td>\n",
       "      <td>0.0129</td>\n",
       "      <td>-0.0020</td>\n",
       "      <td>0.0071</td>\n",
       "      <td>0.00022</td>\n",
       "    </tr>\n",
       "  </tbody>\n",
       "</table>\n",
       "<p>15353 rows × 6 columns</p>\n",
       "</div>"
      ],
      "text/plain": [
       "               MER     SMB     HML     RMW     CMA       RF\n",
       "1963-07-01 -0.0067  0.0002 -0.0035  0.0003  0.0013  0.00012\n",
       "1963-07-02  0.0079 -0.0028  0.0028 -0.0008 -0.0021  0.00012\n",
       "1963-07-03  0.0063 -0.0018 -0.0010  0.0013 -0.0025  0.00012\n",
       "1963-07-05  0.0040  0.0009 -0.0028  0.0007 -0.0030  0.00012\n",
       "1963-07-08 -0.0063  0.0007 -0.0020 -0.0027  0.0006  0.00012\n",
       "...            ...     ...     ...     ...     ...      ...\n",
       "2024-06-24 -0.0026  0.0063  0.0111  0.0000  0.0065  0.00022\n",
       "2024-06-25  0.0031 -0.0081 -0.0120  0.0010 -0.0121  0.00022\n",
       "2024-06-26  0.0016  0.0000 -0.0020  0.0045 -0.0027  0.00022\n",
       "2024-06-27  0.0014  0.0051 -0.0036 -0.0101 -0.0012  0.00022\n",
       "2024-06-28 -0.0035  0.0100  0.0129 -0.0020  0.0071  0.00022\n",
       "\n",
       "[15353 rows x 6 columns]"
      ]
     },
     "metadata": {},
     "output_type": "display_data"
    },
    {
     "data": {
      "text/html": [
       "<b>Factors Statistics</b>"
      ],
      "text/plain": [
       "<IPython.core.display.HTML object>"
      ]
     },
     "metadata": {},
     "output_type": "display_data"
    },
    {
     "data": {
      "text/html": [
       "<div>\n",
       "<style scoped>\n",
       "    .dataframe tbody tr th:only-of-type {\n",
       "        vertical-align: middle;\n",
       "    }\n",
       "\n",
       "    .dataframe tbody tr th {\n",
       "        vertical-align: top;\n",
       "    }\n",
       "\n",
       "    .dataframe thead th {\n",
       "        text-align: right;\n",
       "    }\n",
       "</style>\n",
       "<table border=\"1\" class=\"dataframe\">\n",
       "  <thead>\n",
       "    <tr style=\"text-align: right;\">\n",
       "      <th></th>\n",
       "      <th>count</th>\n",
       "      <th>mean</th>\n",
       "      <th>std</th>\n",
       "      <th>min</th>\n",
       "      <th>25%</th>\n",
       "      <th>50%</th>\n",
       "      <th>75%</th>\n",
       "      <th>max</th>\n",
       "    </tr>\n",
       "  </thead>\n",
       "  <tbody>\n",
       "    <tr>\n",
       "      <th>MER</th>\n",
       "      <td>15353.0</td>\n",
       "      <td>0.000279</td>\n",
       "      <td>0.010202</td>\n",
       "      <td>-0.1744</td>\n",
       "      <td>-0.00420</td>\n",
       "      <td>0.00050</td>\n",
       "      <td>0.00510</td>\n",
       "      <td>0.11350</td>\n",
       "    </tr>\n",
       "    <tr>\n",
       "      <th>SMB</th>\n",
       "      <td>15353.0</td>\n",
       "      <td>0.000061</td>\n",
       "      <td>0.005470</td>\n",
       "      <td>-0.1119</td>\n",
       "      <td>-0.00280</td>\n",
       "      <td>0.00020</td>\n",
       "      <td>0.00300</td>\n",
       "      <td>0.06170</td>\n",
       "    </tr>\n",
       "    <tr>\n",
       "      <th>HML</th>\n",
       "      <td>15353.0</td>\n",
       "      <td>0.000139</td>\n",
       "      <td>0.005835</td>\n",
       "      <td>-0.0502</td>\n",
       "      <td>-0.00240</td>\n",
       "      <td>0.00010</td>\n",
       "      <td>0.00250</td>\n",
       "      <td>0.06730</td>\n",
       "    </tr>\n",
       "    <tr>\n",
       "      <th>RMW</th>\n",
       "      <td>15353.0</td>\n",
       "      <td>0.000140</td>\n",
       "      <td>0.004009</td>\n",
       "      <td>-0.0301</td>\n",
       "      <td>-0.00170</td>\n",
       "      <td>0.00010</td>\n",
       "      <td>0.00190</td>\n",
       "      <td>0.04510</td>\n",
       "    </tr>\n",
       "    <tr>\n",
       "      <th>CMA</th>\n",
       "      <td>15353.0</td>\n",
       "      <td>0.000122</td>\n",
       "      <td>0.003794</td>\n",
       "      <td>-0.0587</td>\n",
       "      <td>-0.00180</td>\n",
       "      <td>0.00010</td>\n",
       "      <td>0.00200</td>\n",
       "      <td>0.02530</td>\n",
       "    </tr>\n",
       "    <tr>\n",
       "      <th>RF</th>\n",
       "      <td>15353.0</td>\n",
       "      <td>0.000173</td>\n",
       "      <td>0.000125</td>\n",
       "      <td>0.0000</td>\n",
       "      <td>0.00007</td>\n",
       "      <td>0.00018</td>\n",
       "      <td>0.00024</td>\n",
       "      <td>0.00061</td>\n",
       "    </tr>\n",
       "  </tbody>\n",
       "</table>\n",
       "</div>"
      ],
      "text/plain": [
       "       count      mean       std     min      25%      50%      75%      max\n",
       "MER  15353.0  0.000279  0.010202 -0.1744 -0.00420  0.00050  0.00510  0.11350\n",
       "SMB  15353.0  0.000061  0.005470 -0.1119 -0.00280  0.00020  0.00300  0.06170\n",
       "HML  15353.0  0.000139  0.005835 -0.0502 -0.00240  0.00010  0.00250  0.06730\n",
       "RMW  15353.0  0.000140  0.004009 -0.0301 -0.00170  0.00010  0.00190  0.04510\n",
       "CMA  15353.0  0.000122  0.003794 -0.0587 -0.00180  0.00010  0.00200  0.02530\n",
       "RF   15353.0  0.000173  0.000125  0.0000  0.00007  0.00018  0.00024  0.00061"
      ]
     },
     "metadata": {},
     "output_type": "display_data"
    },
    {
     "data": {
      "text/html": [
       "<b>Factors Correlation Matrix</b>"
      ],
      "text/plain": [
       "<IPython.core.display.HTML object>"
      ]
     },
     "metadata": {},
     "output_type": "display_data"
    },
    {
     "data": {
      "text/html": [
       "<div>\n",
       "<style scoped>\n",
       "    .dataframe tbody tr th:only-of-type {\n",
       "        vertical-align: middle;\n",
       "    }\n",
       "\n",
       "    .dataframe tbody tr th {\n",
       "        vertical-align: top;\n",
       "    }\n",
       "\n",
       "    .dataframe thead th {\n",
       "        text-align: right;\n",
       "    }\n",
       "</style>\n",
       "<table border=\"1\" class=\"dataframe\">\n",
       "  <thead>\n",
       "    <tr style=\"text-align: right;\">\n",
       "      <th></th>\n",
       "      <th>MER</th>\n",
       "      <th>SMB</th>\n",
       "      <th>HML</th>\n",
       "      <th>RMW</th>\n",
       "      <th>CMA</th>\n",
       "      <th>RF</th>\n",
       "    </tr>\n",
       "  </thead>\n",
       "  <tbody>\n",
       "    <tr>\n",
       "      <th>MER</th>\n",
       "      <td>1.000000</td>\n",
       "      <td>-0.061013</td>\n",
       "      <td>-0.160724</td>\n",
       "      <td>-0.208133</td>\n",
       "      <td>-0.356788</td>\n",
       "      <td>-0.019111</td>\n",
       "    </tr>\n",
       "    <tr>\n",
       "      <th>SMB</th>\n",
       "      <td>-0.061013</td>\n",
       "      <td>1.000000</td>\n",
       "      <td>0.136229</td>\n",
       "      <td>-0.278008</td>\n",
       "      <td>0.030084</td>\n",
       "      <td>-0.012744</td>\n",
       "    </tr>\n",
       "    <tr>\n",
       "      <th>HML</th>\n",
       "      <td>-0.160724</td>\n",
       "      <td>0.136229</td>\n",
       "      <td>1.000000</td>\n",
       "      <td>0.058633</td>\n",
       "      <td>0.560954</td>\n",
       "      <td>0.016867</td>\n",
       "    </tr>\n",
       "    <tr>\n",
       "      <th>RMW</th>\n",
       "      <td>-0.208133</td>\n",
       "      <td>-0.278008</td>\n",
       "      <td>0.058633</td>\n",
       "      <td>1.000000</td>\n",
       "      <td>0.126404</td>\n",
       "      <td>-0.001256</td>\n",
       "    </tr>\n",
       "    <tr>\n",
       "      <th>CMA</th>\n",
       "      <td>-0.356788</td>\n",
       "      <td>0.030084</td>\n",
       "      <td>0.560954</td>\n",
       "      <td>0.126404</td>\n",
       "      <td>1.000000</td>\n",
       "      <td>0.015742</td>\n",
       "    </tr>\n",
       "    <tr>\n",
       "      <th>RF</th>\n",
       "      <td>-0.019111</td>\n",
       "      <td>-0.012744</td>\n",
       "      <td>0.016867</td>\n",
       "      <td>-0.001256</td>\n",
       "      <td>0.015742</td>\n",
       "      <td>1.000000</td>\n",
       "    </tr>\n",
       "  </tbody>\n",
       "</table>\n",
       "</div>"
      ],
      "text/plain": [
       "          MER       SMB       HML       RMW       CMA        RF\n",
       "MER  1.000000 -0.061013 -0.160724 -0.208133 -0.356788 -0.019111\n",
       "SMB -0.061013  1.000000  0.136229 -0.278008  0.030084 -0.012744\n",
       "HML -0.160724  0.136229  1.000000  0.058633  0.560954  0.016867\n",
       "RMW -0.208133 -0.278008  0.058633  1.000000  0.126404 -0.001256\n",
       "CMA -0.356788  0.030084  0.560954  0.126404  1.000000  0.015742\n",
       "RF  -0.019111 -0.012744  0.016867 -0.001256  0.015742  1.000000"
      ]
     },
     "metadata": {},
     "output_type": "display_data"
    }
   ],
   "source": [
    "display(HTML('<b>Factors time series</b>'), famafrench.df_factors)\n",
    "display(HTML('<b>Factors Statistics</b>'), famafrench.df_factors.describe().T)\n",
    "display(HTML('<b>Factors Correlation Matrix</b>'), famafrench.df_factors.corr())"
   ]
  },
  {
   "cell_type": "code",
   "execution_count": 4,
   "metadata": {
    "ExecuteTime": {
     "end_time": "2020-06-24T04:43:19.020135Z",
     "start_time": "2020-06-24T04:43:17.796116Z"
    },
    "cell_style": "center",
    "code_folding": [],
    "scrolled": true
   },
   "outputs": [
    {
     "data": {
      "text/html": [
       "<b>Distribution Analysis</b>"
      ],
      "text/plain": [
       "<IPython.core.display.HTML object>"
      ]
     },
     "metadata": {},
     "output_type": "display_data"
    },
    {
     "data": {
      "application/vnd.jupyter.widget-view+json": {
       "model_id": "f25b16b2634748568de18b65dc89dd58",
       "version_major": 2,
       "version_minor": 0
      },
      "text/plain": [
       "HBox(children=(Dropdown(description='Factor', options=('Market Factor (MER)', 'Size Factor (SMB)', 'Value Fact…"
      ]
     },
     "metadata": {},
     "output_type": "display_data"
    },
    {
     "data": {
      "application/vnd.jupyter.widget-view+json": {
       "model_id": "b9b375bbe61a447d9d5cd5e415f70424",
       "version_major": 2,
       "version_minor": 0
      },
      "text/plain": [
       "Output()"
      ]
     },
     "metadata": {},
     "output_type": "display_data"
    },
    {
     "data": {
      "application/vnd.jupyter.widget-view+json": {
       "model_id": "0edeeded394d4de99799a7032616047f",
       "version_major": 2,
       "version_minor": 0
      },
      "text/plain": [
       "Output()"
      ]
     },
     "metadata": {},
     "output_type": "display_data"
    }
   ],
   "source": [
    "display(HTML(\"<b>Distribution Analysis</b>\"))\n",
    "    \n",
    "wx_ff=wx.Dropdown(options=famafrench.lookup_factors.keys(), description='Factor')\n",
    "wx_ma=create_ma_radios('1D')\n",
    "wx_out1=wx.interactive_output(famafrench.plot_factor_hists, {'ff':wx_ff, 'ma':wx_ma})\n",
    "wx_out2=wx.interactive_output(famafrench.plot_factor_timeseries, {'ff':wx_ff, 'ma':wx_ma})\n",
    "display(wx.HBox([wx_ff, wx_ma]), wx_out1, wx_out2)"
   ]
  },
  {
   "cell_type": "markdown",
   "metadata": {},
   "source": [
    "# Portfolio Analysis"
   ]
  },
  {
   "cell_type": "code",
   "execution_count": 5,
   "metadata": {
    "ExecuteTime": {
     "end_time": "2020-06-24T04:43:28.386129Z",
     "start_time": "2020-06-24T04:43:19.024131Z"
    },
    "code_folding": []
   },
   "outputs": [
    {
     "data": {
      "application/vnd.jupyter.widget-view+json": {
       "model_id": "884900fb0d944271861409d586efa215",
       "version_major": 2,
       "version_minor": 0
      },
      "text/plain": [
       "Dropdown(description='Portfolio', layout=Layout(width='500px'), options=('1. Univariate SMB ➤   Value Weighted…"
      ]
     },
     "metadata": {},
     "output_type": "display_data"
    },
    {
     "data": {
      "application/vnd.jupyter.widget-view+json": {
       "model_id": "f81178695d06458ebc0f288c5abba0c5",
       "version_major": 2,
       "version_minor": 0
      },
      "text/plain": [
       "HBox(children=(SelectionRangeSlider(continuous_update=False, description='Range', index=(0, 64), layout=Layout…"
      ]
     },
     "metadata": {},
     "output_type": "display_data"
    },
    {
     "data": {
      "application/vnd.jupyter.widget-view+json": {
       "model_id": "4c6fb0b90036457f9eaeb64aa0fc8c35",
       "version_major": 2,
       "version_minor": 0
      },
      "text/plain": [
       "HBox(children=(Output(), Output()))"
      ]
     },
     "metadata": {},
     "output_type": "display_data"
    },
    {
     "data": {
      "application/vnd.jupyter.widget-view+json": {
       "model_id": "12074ec4a4ac439daa41346a5fc2fdad",
       "version_major": 2,
       "version_minor": 0
      },
      "text/plain": [
       "HBox(children=(Output(layout=Layout(height='700px')), RadioButtons(description='Roll Avg', index=3, options=('…"
      ]
     },
     "metadata": {},
     "output_type": "display_data"
    }
   ],
   "source": [
    "def create_factor_radios():\n",
    "    return {\n",
    "        'f_mer': wx.Checkbox(description='MER', indent=False, layout=chkbox_layout, value=True),\n",
    "        'f_smb': wx.Checkbox(description='SMB', indent=False, layout=chkbox_layout, value=True),\n",
    "        'f_hml': wx.Checkbox(description='HML', indent=False, layout=chkbox_layout, value=True),\n",
    "        'f_rmw': wx.Checkbox(description='RMW', indent=False, layout=chkbox_layout),\n",
    "        'f_cma': wx.Checkbox(description='CMA', indent=False, layout=chkbox_layout),\n",
    "    }\n",
    "\n",
    "def create_portfolio_dropdown():\n",
    "    return wx.Dropdown(options=famafrench.portfolios.keys(), description='Portfolio', layout=wx.Layout(width='500px'))\n",
    "\n",
    "\n",
    "chkbox_layout = wx.Layout(width='70px')\n",
    "wx_pname = create_portfolio_dropdown()\n",
    "wx_ma = create_ma_radios('3Y')\n",
    "wx_factor_list = create_factor_radios()\n",
    "wx_daterange=wx.SelectionRangeSlider(options=range(1960,2025), index=(0, len(range(1960,2025))-1), description='Range', continuous_update=False, layout=wx.Layout(width='500px'))\n",
    "wx_out=wx.interactive_output(famafrench.fit_portfolio_returns, {'pname':wx_pname, **wx_factor_list , 'ma': wx_ma, 'daterange': wx_daterange})\n",
    "wx_out.layout.height='700px'\n",
    "wx_out_r2hist = wx.interactive_output(famafrench.draw_R2_hist, {'pname':wx_pname, 'daterange': wx_daterange})\n",
    "wx_out_r2series = wx.interactive_output(famafrench.draw_R2_series, {'pname':wx_pname, **wx_factor_list, 'daterange': wx_daterange})\n",
    "display(\n",
    "    wx_pname, \n",
    "    wx.HBox([wx_daterange, *(wx_factor_list.values())]),\n",
    "    wx.HBox([wx_out_r2hist, wx_out_r2series]),\n",
    "    wx.HBox([wx_out, wx_ma]))"
   ]
  },
  {
   "cell_type": "code",
   "execution_count": 6,
   "metadata": {
    "ExecuteTime": {
     "end_time": "2020-06-24T04:43:28.386129Z",
     "start_time": "2020-06-24T04:43:19.024131Z"
    },
    "code_folding": []
   },
   "outputs": [
    {
     "data": {
      "application/vnd.jupyter.widget-view+json": {
       "model_id": "5a9d30568cb349f2a937c5f51d098bca",
       "version_major": 2,
       "version_minor": 0
      },
      "text/plain": [
       "Dropdown(description='Portfolio', layout=Layout(width='500px'), options=('1. Univariate SMB ➤   Value Weighted…"
      ]
     },
     "metadata": {},
     "output_type": "display_data"
    },
    {
     "data": {
      "application/vnd.jupyter.widget-view+json": {
       "model_id": "f0b5f59de1eb41fc88d9adb6310388ce",
       "version_major": 2,
       "version_minor": 0
      },
      "text/plain": [
       "HBox(children=(SelectionRangeSlider(continuous_update=False, description='Range', index=(0, 60), layout=Layout…"
      ]
     },
     "metadata": {},
     "output_type": "display_data"
    },
    {
     "data": {
      "application/vnd.jupyter.widget-view+json": {
       "model_id": "cac736e5819d4fed9f62f50be692d1fc",
       "version_major": 2,
       "version_minor": 0
      },
      "text/plain": [
       "HBox(children=(Output(), Output()))"
      ]
     },
     "metadata": {},
     "output_type": "display_data"
    },
    {
     "data": {
      "application/vnd.jupyter.widget-view+json": {
       "model_id": "f4f8afa0e7f44ce68838a075679d72be",
       "version_major": 2,
       "version_minor": 0
      },
      "text/plain": [
       "HBox(children=(Output(layout=Layout(height='700px')), RadioButtons(description='Roll Avg', index=3, options=('…"
      ]
     },
     "metadata": {},
     "output_type": "display_data"
    }
   ],
   "source": [
    "def create_factor_radios_2():\n",
    "    return {\n",
    "        'f_mer': wx.Checkbox(description='MER', indent=False, layout=chkbox_layout, value=True),\n",
    "        'f_smb': wx.Checkbox(description='SMB', indent=False, layout=chkbox_layout, value=True),\n",
    "        'f_hml': wx.Checkbox(description='HML', indent=False, layout=chkbox_layout, value=True),\n",
    "        'f_rmw': wx.Checkbox(description='RMW', indent=False, layout=chkbox_layout),\n",
    "        'f_cma': wx.Checkbox(description='CMA', indent=False, layout=chkbox_layout),\n",
    "    }\n",
    "\n",
    "def create_portfolio_dropdown():\n",
    "    return wx.Dropdown(options=famafrench.portfolios.keys(), description='Portfolio', layout=wx.Layout(width='500px'))\n",
    "\n",
    "\n",
    "chkbox_layout = wx.Layout(width='70px')\n",
    "wx_pname = create_portfolio_dropdown()\n",
    "wx_ma = create_ma_radios('3Y')\n",
    "wx_factor_list = create_factor_radios()\n",
    "wx_daterange=wx.SelectionRangeSlider(options=range(1960,2021), index=(0, len(range(1960,2021))-1), description='Range', continuous_update=False, layout=wx.Layout(width='500px'))\n",
    "wx_out=wx.interactive_output(famafrench.fit_portfolio_returns, {'pname':wx_pname, **wx_factor_list , 'ma': wx_ma, 'daterange': wx_daterange})\n",
    "wx_out.layout.height='700px'\n",
    "wx_out_r2hist = wx.interactive_output(famafrench.draw_R2_hist, {'pname':wx_pname, 'daterange': wx_daterange})\n",
    "wx_out_r2series = wx.interactive_output(famafrench.draw_R2_series, {'pname':wx_pname, **wx_factor_list, 'daterange': wx_daterange})\n",
    "display(\n",
    "    wx_pname, \n",
    "    wx.HBox([wx_daterange, *(wx_factor_list.values())]),\n",
    "    wx.HBox([wx_out_r2hist, wx_out_r2series]),\n",
    "    wx.HBox([wx_out, wx_ma]))"
   ]
  },
  {
   "cell_type": "code",
   "execution_count": 7,
   "metadata": {
    "ExecuteTime": {
     "end_time": "2020-06-24T04:43:28.386129Z",
     "start_time": "2020-06-24T04:43:19.024131Z"
    },
    "code_folding": []
   },
   "outputs": [
    {
     "data": {
      "application/vnd.jupyter.widget-view+json": {
       "model_id": "3fff276ea53d4cb2831d1351650903c9",
       "version_major": 2,
       "version_minor": 0
      },
      "text/plain": [
       "Dropdown(description='Portfolio', layout=Layout(width='500px'), options=('1. Univariate SMB ➤   Value Weighted…"
      ]
     },
     "metadata": {},
     "output_type": "display_data"
    },
    {
     "data": {
      "application/vnd.jupyter.widget-view+json": {
       "model_id": "9c904bacd86a41ebafde8fdab50d91bc",
       "version_major": 2,
       "version_minor": 0
      },
      "text/plain": [
       "HBox(children=(SelectionRangeSlider(continuous_update=False, description='Range', index=(0, 60), layout=Layout…"
      ]
     },
     "metadata": {},
     "output_type": "display_data"
    },
    {
     "data": {
      "application/vnd.jupyter.widget-view+json": {
       "model_id": "d37200497d614f31a893432d75331a5a",
       "version_major": 2,
       "version_minor": 0
      },
      "text/plain": [
       "HBox(children=(Output(), Output()))"
      ]
     },
     "metadata": {},
     "output_type": "display_data"
    },
    {
     "data": {
      "application/vnd.jupyter.widget-view+json": {
       "model_id": "6b80745854104b139d85b6017d0c9b0b",
       "version_major": 2,
       "version_minor": 0
      },
      "text/plain": [
       "HBox(children=(Output(layout=Layout(height='700px')), RadioButtons(description='Roll Avg', index=3, options=('…"
      ]
     },
     "metadata": {},
     "output_type": "display_data"
    }
   ],
   "source": [
    "def create_factor_radios_3():\n",
    "    return {\n",
    "        'f_mer': wx.Checkbox(description='MER', indent=False, layout=chkbox_layout, value=True),\n",
    "        'f_smb': wx.Checkbox(description='SMB', indent=False, layout=chkbox_layout, value=True),\n",
    "        'f_hml': wx.Checkbox(description='HML', indent=False, layout=chkbox_layout, value=True),\n",
    "        'f_rmw': wx.Checkbox(description='RMW', indent=False, layout=chkbox_layout),\n",
    "        'f_cma': wx.Checkbox(description='CMA', indent=False, layout=chkbox_layout),\n",
    "    }\n",
    "\n",
    "def create_portfolio_dropdown():\n",
    "    return wx.Dropdown(options=famafrench.portfolios.keys(), description='Portfolio', layout=wx.Layout(width='500px'))\n",
    "\n",
    "\n",
    "chkbox_layout = wx.Layout(width='70px')\n",
    "wx_pname = create_portfolio_dropdown()\n",
    "wx_ma = create_ma_radios('3Y')\n",
    "wx_factor_list = create_factor_radios()\n",
    "wx_daterange=wx.SelectionRangeSlider(options=range(1960,2021), index=(0, len(range(1960,2021))-1), description='Range', continuous_update=False, layout=wx.Layout(width='500px'))\n",
    "wx_out=wx.interactive_output(famafrench.fit_portfolio_returns, {'pname':wx_pname, **wx_factor_list , 'ma': wx_ma, 'daterange': wx_daterange})\n",
    "wx_out.layout.height='700px'\n",
    "wx_out_r2hist = wx.interactive_output(famafrench.draw_R2_hist, {'pname':wx_pname, 'daterange': wx_daterange})\n",
    "wx_out_r2series = wx.interactive_output(famafrench.draw_R2_series, {'pname':wx_pname, **wx_factor_list, 'daterange': wx_daterange})\n",
    "display(\n",
    "    wx_pname, \n",
    "    wx.HBox([wx_daterange, *(wx_factor_list.values())]),\n",
    "    wx.HBox([wx_out_r2hist, wx_out_r2series]),\n",
    "    wx.HBox([wx_out, wx_ma]))"
   ]
  },
  {
   "cell_type": "code",
   "execution_count": null,
   "metadata": {},
   "outputs": [],
   "source": []
  }
 ],
 "metadata": {
  "kernelspec": {
   "display_name": "Python 3 (ipykernel)",
   "language": "python",
   "name": "python3"
  },
  "language_info": {
   "codemirror_mode": {
    "name": "ipython",
    "version": 3
   },
   "file_extension": ".py",
   "mimetype": "text/x-python",
   "name": "python",
   "nbconvert_exporter": "python",
   "pygments_lexer": "ipython3",
   "version": "3.11.8"
  }
 },
 "nbformat": 4,
 "nbformat_minor": 4
}
